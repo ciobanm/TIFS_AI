{
 "cells": [
  {
   "cell_type": "code",
   "execution_count": null,
   "id": "d4a38406",
   "metadata": {},
   "outputs": [],
   "source": [
    "def is_sorted(lst):\n",
    "    if lst == sorted (lst):\n",
    "        return True \n",
    "    else:\n",
    "        return False \n",
    "    \n",
    "print(is_sorted([1,2,2]))\n",
    "print(is_sorted(['b', 'a']))"
   ]
  },
  {
   "cell_type": "code",
   "execution_count": null,
   "id": "ca0a9381",
   "metadata": {},
   "outputs": [],
   "source": []
  }
 ],
 "metadata": {
  "kernelspec": {
   "display_name": "Python 3 (ipykernel)",
   "language": "python",
   "name": "python3"
  },
  "language_info": {
   "codemirror_mode": {
    "name": "ipython",
    "version": 3
   },
   "file_extension": ".py",
   "mimetype": "text/x-python",
   "name": "python",
   "nbconvert_exporter": "python",
   "pygments_lexer": "ipython3",
   "version": "3.7.9"
  }
 },
 "nbformat": 4,
 "nbformat_minor": 5
}
