{
 "cells": [
  {
   "cell_type": "code",
   "execution_count": 31,
   "id": "7e81dd37",
   "metadata": {},
   "outputs": [],
   "source": [
    "class Balance:\n",
    "    def __init__(self, money):\n",
    "        self.money = money \n",
    "    def add_(self, add_money):\n",
    "        self.money += add_money\n",
    "    def extract (self, money): \n",
    "        self.money -= money  "
   ]
  },
  {
   "cell_type": "code",
   "execution_count": 32,
   "id": "bea3ca37",
   "metadata": {},
   "outputs": [],
   "source": [
    "mobias = Balance (500)"
   ]
  },
  {
   "cell_type": "code",
   "execution_count": 33,
   "id": "8cbc1174",
   "metadata": {},
   "outputs": [],
   "source": [
    "mobias.add_(100)"
   ]
  },
  {
   "cell_type": "code",
   "execution_count": 34,
   "id": "fc3522a9",
   "metadata": {},
   "outputs": [
    {
     "data": {
      "text/plain": [
       "600"
      ]
     },
     "execution_count": 34,
     "metadata": {},
     "output_type": "execute_result"
    }
   ],
   "source": [
    "mobias.money "
   ]
  },
  {
   "cell_type": "code",
   "execution_count": 35,
   "id": "fb2fbf9c",
   "metadata": {},
   "outputs": [],
   "source": [
    "mobias.extract (200)"
   ]
  },
  {
   "cell_type": "code",
   "execution_count": 36,
   "id": "cb31d5de",
   "metadata": {},
   "outputs": [
    {
     "data": {
      "text/plain": [
       "400"
      ]
     },
     "execution_count": 36,
     "metadata": {},
     "output_type": "execute_result"
    }
   ],
   "source": [
    "mobias.money"
   ]
  },
  {
   "cell_type": "code",
   "execution_count": null,
   "id": "087a79eb",
   "metadata": {},
   "outputs": [],
   "source": []
  }
 ],
 "metadata": {
  "kernelspec": {
   "display_name": "Python 3 (ipykernel)",
   "language": "python",
   "name": "python3"
  },
  "language_info": {
   "codemirror_mode": {
    "name": "ipython",
    "version": 3
   },
   "file_extension": ".py",
   "mimetype": "text/x-python",
   "name": "python",
   "nbconvert_exporter": "python",
   "pygments_lexer": "ipython3",
   "version": "3.7.9"
  }
 },
 "nbformat": 4,
 "nbformat_minor": 5
}
