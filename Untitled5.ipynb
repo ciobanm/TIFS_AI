{
 "cells": [
  {
   "cell_type": "code",
   "execution_count": 3,
   "id": "2f5434c8",
   "metadata": {},
   "outputs": [
    {
     "name": "stdout",
     "output_type": "stream",
     "text": [
      "What is your age:23\n",
      "Adult\n"
     ]
    }
   ],
   "source": [
    "age = int(input(\"What is your age:\"))\n",
    "if age >= 18:\n",
    "    print(\"Adult\")\n",
    "elif age >= 12:\n",
    "    print (\"Teenager\")\n",
    "else:\n",
    "    print(\"Child\")"
   ]
  },
  {
   "cell_type": "code",
   "execution_count": 9,
   "id": "e5f0e2ff",
   "metadata": {},
   "outputs": [
    {
     "name": "stdout",
     "output_type": "stream",
     "text": [
      "Enter the wanted number:4\n",
      "9\n"
     ]
    }
   ],
   "source": [
    "n = int(input(\"Enter the wanted number:\"))\n",
    "b = 3\n",
    "start = 0\n",
    "for i in range (n-1):\n",
    "    start += b\n",
    "print(start)"
   ]
  },
  {
   "cell_type": "code",
   "execution_count": 12,
   "id": "1a9c4b5e",
   "metadata": {},
   "outputs": [
    {
     "name": "stdout",
     "output_type": "stream",
     "text": [
      "0\n",
      "1\n",
      "2\n",
      "3\n"
     ]
    }
   ],
   "source": [
    "for i in range(4):\n",
    "    print(i)"
   ]
  },
  {
   "cell_type": "code",
   "execution_count": 17,
   "id": "9d31845a",
   "metadata": {},
   "outputs": [
    {
     "name": "stdout",
     "output_type": "stream",
     "text": [
      "a =  2\n",
      "b =  1\n"
     ]
    }
   ],
   "source": [
    "a = 1\n",
    "b = 2 \n",
    "a,b = b, a\n",
    "print (\"a = \",a)\n",
    "print(\"b = \", b)"
   ]
  },
  {
   "cell_type": "code",
   "execution_count": 23,
   "id": "e0a58df9",
   "metadata": {},
   "outputs": [
    {
     "name": "stdout",
     "output_type": "stream",
     "text": [
      "Enter the number:5\n",
      "3\n"
     ]
    }
   ],
   "source": [
    "a = 0\n",
    "b = 1\n",
    "n = int(input(\"Enter the number:\"))\n",
    "for i in range(n-2):\n",
    "    a, b = b, a+b\n",
    "print(b)"
   ]
  }
 ],
 "metadata": {
  "kernelspec": {
   "display_name": "Python 3 (ipykernel)",
   "language": "python",
   "name": "python3"
  },
  "language_info": {
   "codemirror_mode": {
    "name": "ipython",
    "version": 3
   },
   "file_extension": ".py",
   "mimetype": "text/x-python",
   "name": "python",
   "nbconvert_exporter": "python",
   "pygments_lexer": "ipython3",
   "version": "3.7.9"
  }
 },
 "nbformat": 4,
 "nbformat_minor": 5
}
