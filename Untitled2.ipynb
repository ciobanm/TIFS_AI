{
 "cells": [
  {
   "cell_type": "code",
   "execution_count": 38,
   "id": "ef77a35c",
   "metadata": {},
   "outputs": [],
   "source": [
    "def solve_equation_2(a, b, c):\n",
    "    delta = b**2-4*a*c\n",
    "    if delta == 0:\n",
    "       x = -b / (2 * a)\n",
    "       print (f\"x1 = x2 = {x}\")\n",
    "    elif delta > 0:\n",
    "        x1 = (-b - delta ** 0.5)/(2*a)\n",
    "        x2 = (-b + delta ** 0.5)/(2*a)\n",
    "        print (f\"x1= {x1}, x2={x2}\")\n",
    "    else: \n",
    "        print (\"No solution\")\n",
    "           "
   ]
  },
  {
   "cell_type": "code",
   "execution_count": 14,
   "id": "f12b0bdd",
   "metadata": {},
   "outputs": [],
   "source": [
    "def compute_ipotenuza (c1, c2):\n",
    "    ipo = (c1** 2 + c2 **2) ** 0.5\n",
    "    return ipo "
   ]
  },
  {
   "cell_type": "code",
   "execution_count": 15,
   "id": "b9669082",
   "metadata": {},
   "outputs": [
    {
     "data": {
      "text/plain": [
       "5.0"
      ]
     },
     "execution_count": 15,
     "metadata": {},
     "output_type": "execute_result"
    }
   ],
   "source": [
    "compute_ipotenuza(3,4)"
   ]
  },
  {
   "cell_type": "code",
   "execution_count": 25,
   "id": "fd930d54",
   "metadata": {},
   "outputs": [
    {
     "data": {
      "text/plain": [
       "7"
      ]
     },
     "execution_count": 25,
     "metadata": {},
     "output_type": "execute_result"
    }
   ],
   "source": [
    "def mediana (a, b, c):\n",
    "    if a>b and a<c or a>c and a<b: \n",
    "         return a \n",
    "    elif b>c and b<a or b>a and b<c: \n",
    "         return b\n",
    "    else:\n",
    "            return c \n",
    "mediana (7,9,2)"
   ]
  },
  {
   "cell_type": "code",
   "execution_count": 29,
   "id": "240f63e0",
   "metadata": {},
   "outputs": [],
   "source": [
    "def ordinal_date (day, month, year):\n",
    "    days_in_months = [0, 31, 59, 90, 120, 151, 181, 212, 243, 273, 304, 334, 365]\n",
    "    days = day + days_in_months[month - 1] \n",
    "    return year, days "
   ]
  },
  {
   "cell_type": "code",
   "execution_count": 30,
   "id": "f21c0815",
   "metadata": {},
   "outputs": [
    {
     "data": {
      "text/plain": [
       "(2000, 175)"
      ]
     },
     "execution_count": 30,
     "metadata": {},
     "output_type": "execute_result"
    }
   ],
   "source": [
    "ordinal_date (24, 6, 2000)"
   ]
  },
  {
   "cell_type": "code",
   "execution_count": 35,
   "id": "0d5a407c",
   "metadata": {},
   "outputs": [],
   "source": [
    "def triungle (a,b,c):\n",
    "    if a<b+c and b<a+c and c<a+b:\n",
    "        return True \n",
    "    else: \n",
    "        return False "
   ]
  },
  {
   "cell_type": "code",
   "execution_count": 36,
   "id": "7742121d",
   "metadata": {},
   "outputs": [
    {
     "data": {
      "text/plain": [
       "False"
      ]
     },
     "execution_count": 36,
     "metadata": {},
     "output_type": "execute_result"
    }
   ],
   "source": [
    "triungle (6, 2, 2)"
   ]
  },
  {
   "cell_type": "code",
   "execution_count": 37,
   "id": "fed2ad8d",
   "metadata": {},
   "outputs": [
    {
     "data": {
      "text/plain": [
       "True"
      ]
     },
     "execution_count": 37,
     "metadata": {},
     "output_type": "execute_result"
    }
   ],
   "source": [
    "triungle (3,4,5)"
   ]
  },
  {
   "cell_type": "code",
   "execution_count": null,
   "id": "cf9727b7",
   "metadata": {},
   "outputs": [],
   "source": []
  }
 ],
 "metadata": {
  "kernelspec": {
   "display_name": "Python 3 (ipykernel)",
   "language": "python",
   "name": "python3"
  },
  "language_info": {
   "codemirror_mode": {
    "name": "ipython",
    "version": 3
   },
   "file_extension": ".py",
   "mimetype": "text/x-python",
   "name": "python",
   "nbconvert_exporter": "python",
   "pygments_lexer": "ipython3",
   "version": "3.7.9"
  }
 },
 "nbformat": 4,
 "nbformat_minor": 5
}
