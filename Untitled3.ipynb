{
 "cells": [
  {
   "cell_type": "code",
   "execution_count": 10,
   "id": "8b277d3d",
   "metadata": {},
   "outputs": [],
   "source": [
    "class Person: \n",
    "    def set_name (self, name): \n",
    "        self.name = name \n",
    "        \n",
    "    def set_age (self, age): \n",
    "        self.age = age \n",
    "        "
   ]
  },
  {
   "cell_type": "code",
   "execution_count": 11,
   "id": "d853a706",
   "metadata": {},
   "outputs": [],
   "source": [
    "mary = Person ()\n",
    "mary.set_name(\"Mary\")\n",
    "mary.set_age(23)"
   ]
  },
  {
   "cell_type": "code",
   "execution_count": 12,
   "id": "0dd0fa95",
   "metadata": {},
   "outputs": [
    {
     "data": {
      "text/plain": [
       "'Mary'"
      ]
     },
     "execution_count": 12,
     "metadata": {},
     "output_type": "execute_result"
    }
   ],
   "source": [
    "mary.name"
   ]
  },
  {
   "cell_type": "code",
   "execution_count": 13,
   "id": "761520c6",
   "metadata": {},
   "outputs": [
    {
     "data": {
      "text/plain": [
       "23"
      ]
     },
     "execution_count": 13,
     "metadata": {},
     "output_type": "execute_result"
    }
   ],
   "source": [
    "mary.age"
   ]
  },
  {
   "cell_type": "code",
   "execution_count": 14,
   "id": "b06aa395",
   "metadata": {},
   "outputs": [],
   "source": [
    "mary.age=24"
   ]
  },
  {
   "cell_type": "code",
   "execution_count": 15,
   "id": "92ebfb41",
   "metadata": {},
   "outputs": [
    {
     "data": {
      "text/plain": [
       "24"
      ]
     },
     "execution_count": 15,
     "metadata": {},
     "output_type": "execute_result"
    }
   ],
   "source": [
    "mary.age "
   ]
  },
  {
   "cell_type": "code",
   "execution_count": 41,
   "id": "0c20379f",
   "metadata": {},
   "outputs": [],
   "source": [
    "class Person:\n",
    "    def __init__ (self, name, age, gender):\n",
    "       self.name = name\n",
    "       self.age = age \n",
    "       self.gender = gender \n",
    "    \n",
    "    def greeting (self):\n",
    "        print (f\"Hi,my name is {self.name}\")\n",
    "    \n",
    "    def add_weight_and_height(self, weight, height):\n",
    "        self.weight = weight\n",
    "        self.height = height \n",
    "        \n",
    "    def compute_imc (self):\n",
    "        self.imc = self.weight / self.height ** 2\n",
    "        return self.imc \n",
    "    \n",
    "    "
   ]
  },
  {
   "cell_type": "code",
   "execution_count": 42,
   "id": "8e79c78a",
   "metadata": {},
   "outputs": [],
   "source": [
    "mary = Person (\"Mary\", 23, \"Female\")"
   ]
  },
  {
   "cell_type": "code",
   "execution_count": 43,
   "id": "a590e4aa",
   "metadata": {},
   "outputs": [
    {
     "name": "stdout",
     "output_type": "stream",
     "text": [
      "Hi,my name is Mary\n"
     ]
    }
   ],
   "source": [
    "mary.greeting()"
   ]
  },
  {
   "cell_type": "code",
   "execution_count": 44,
   "id": "ddc5f89b",
   "metadata": {},
   "outputs": [],
   "source": [
    "mary.add_weight_and_height (52, 1.64)"
   ]
  },
  {
   "cell_type": "code",
   "execution_count": 45,
   "id": "5f84610a",
   "metadata": {},
   "outputs": [
    {
     "data": {
      "text/plain": [
       "19.333729922665082"
      ]
     },
     "execution_count": 45,
     "metadata": {},
     "output_type": "execute_result"
    }
   ],
   "source": [
    "mary.compute_imc ()"
   ]
  },
  {
   "cell_type": "code",
   "execution_count": 46,
   "id": "a30dca6d",
   "metadata": {},
   "outputs": [
    {
     "data": {
      "text/plain": [
       "19.333729922665082"
      ]
     },
     "execution_count": 46,
     "metadata": {},
     "output_type": "execute_result"
    }
   ],
   "source": [
    "mary.imc"
   ]
  },
  {
   "cell_type": "code",
   "execution_count": 48,
   "id": "e8c9c6c5",
   "metadata": {},
   "outputs": [],
   "source": [
    "imc = mary.compute_imc() "
   ]
  },
  {
   "cell_type": "code",
   "execution_count": 49,
   "id": "93a0b2b4",
   "metadata": {},
   "outputs": [
    {
     "data": {
      "text/plain": [
       "19.333729922665082"
      ]
     },
     "execution_count": 49,
     "metadata": {},
     "output_type": "execute_result"
    }
   ],
   "source": [
    "imc"
   ]
  }
 ],
 "metadata": {
  "kernelspec": {
   "display_name": "Python 3 (ipykernel)",
   "language": "python",
   "name": "python3"
  },
  "language_info": {
   "codemirror_mode": {
    "name": "ipython",
    "version": 3
   },
   "file_extension": ".py",
   "mimetype": "text/x-python",
   "name": "python",
   "nbconvert_exporter": "python",
   "pygments_lexer": "ipython3",
   "version": "3.7.9"
  }
 },
 "nbformat": 4,
 "nbformat_minor": 5
}
