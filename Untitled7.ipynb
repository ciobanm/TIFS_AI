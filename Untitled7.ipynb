{
 "cells": [
  {
   "cell_type": "code",
   "execution_count": 1,
   "id": "85107b33",
   "metadata": {},
   "outputs": [
    {
     "name": "stdout",
     "output_type": "stream",
     "text": [
      "Enter an word:first\n",
      "Enter an word:second\n",
      "Enter an word:first\n",
      "Enter an word:third\n",
      "Enter an word:second\n",
      "Enter an word:\n",
      "first\n",
      "second\n",
      "third\n"
     ]
    }
   ],
   "source": [
    "words = []\n",
    "while True:\n",
    "    word = input (\"Enter an word:\")\n",
    "    if word =='':\n",
    "        break\n",
    "    else:\n",
    "        words.append(word)\n",
    "unique_words = []\n",
    "for word in words:\n",
    "    if word not in unique_words:\n",
    "        unique_words.append(word)\n",
    "for word in unique_words:\n",
    "    print (word)"
   ]
  },
  {
   "cell_type": "code",
   "execution_count": 1,
   "id": "688d6ecf",
   "metadata": {},
   "outputs": [
    {
     "name": "stdout",
     "output_type": "stream",
     "text": [
      "Enter the number of elements:4\n",
      "enter the element:1\n",
      "enter the element:2\n",
      "enter the element:3\n",
      "enter the element:4\n"
     ]
    }
   ],
   "source": [
    "n =int(input(\"Enter the number of elements:\"))\n",
    "lst = []\n",
    "for i in range(n):\n",
    "    element = input(\"enter the element:\")\n",
    "    lst.append(element)"
   ]
  },
  {
   "cell_type": "code",
   "execution_count": 2,
   "id": "4a88133f",
   "metadata": {},
   "outputs": [
    {
     "data": {
      "text/plain": [
       "['1', '2', '3', '4']"
      ]
     },
     "execution_count": 2,
     "metadata": {},
     "output_type": "execute_result"
    }
   ],
   "source": [
    "lst"
   ]
  },
  {
   "cell_type": "code",
   "execution_count": 4,
   "id": "1b7fa41e",
   "metadata": {},
   "outputs": [
    {
     "name": "stdout",
     "output_type": "stream",
     "text": [
      "Enter the elementapples\n",
      "Enter the elementoranges\n",
      "Enter the elementbananas\n",
      "Enter the elementlimes\n",
      "Enter the element\n",
      "apples,oranges,bananasand limes"
     ]
    }
   ],
   "source": [
    "lst = []\n",
    "while True:\n",
    "    element = input (\"Enter the element\")\n",
    "    if element == '':\n",
    "        break\n",
    "    else:\n",
    "        lst.append(element)\n",
    "for i in range (len(lst)-1):\n",
    "    print (lst[i], end='')\n",
    "    if lst[i+1] == lst[-1]:\n",
    "        print(\"and\", lst[i+1], end='')\n",
    "    else:\n",
    "        print(\",\", end='')"
   ]
  },
  {
   "cell_type": "code",
   "execution_count": null,
   "id": "8b1caf93",
   "metadata": {},
   "outputs": [],
   "source": []
  }
 ],
 "metadata": {
  "kernelspec": {
   "display_name": "Python 3 (ipykernel)",
   "language": "python",
   "name": "python3"
  },
  "language_info": {
   "codemirror_mode": {
    "name": "ipython",
    "version": 3
   },
   "file_extension": ".py",
   "mimetype": "text/x-python",
   "name": "python",
   "nbconvert_exporter": "python",
   "pygments_lexer": "ipython3",
   "version": "3.7.9"
  }
 },
 "nbformat": 4,
 "nbformat_minor": 5
}
