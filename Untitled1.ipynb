{
 "cells": [
  {
   "cell_type": "code",
   "execution_count": null,
   "id": "780d182e",
   "metadata": {},
   "outputs": [
    {
     "name": "stdout",
     "output_type": "stream",
     "text": [
      "Enter the element:apples\n"
     ]
    }
   ],
   "source": [
    "lst = []\n",
    "while True:\n",
    "    element =input (\"Enter the element:\")\n",
    "    if element =='':\n",
    "        break\n",
    "    else:\n",
    "        lst.append (element)\n",
    "for i in range(len(lst)-1):\n",
    "    print(lst[i], end='')\n",
    "    if lst[i+1] == lst[-1]:\n",
    "        print(\" and \", lst[i+1], end='')\n",
    "    else:\n",
    "        print(\", \", end='') "
   ]
  },
  {
   "cell_type": "code",
   "execution_count": null,
   "id": "bc866867",
   "metadata": {},
   "outputs": [],
   "source": []
  }
 ],
 "metadata": {
  "kernelspec": {
   "display_name": "Python 3 (ipykernel)",
   "language": "python",
   "name": "python3"
  },
  "language_info": {
   "codemirror_mode": {
    "name": "ipython",
    "version": 3
   },
   "file_extension": ".py",
   "mimetype": "text/x-python",
   "name": "python",
   "nbconvert_exporter": "python",
   "pygments_lexer": "ipython3",
   "version": "3.7.9"
  }
 },
 "nbformat": 4,
 "nbformat_minor": 5
}
